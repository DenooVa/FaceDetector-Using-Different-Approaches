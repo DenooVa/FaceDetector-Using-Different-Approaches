{
 "cells": [
  {
   "cell_type": "code",
   "execution_count": 1,
   "metadata": {},
   "outputs": [
    {
     "name": "stderr",
     "output_type": "stream",
     "text": [
      "Using TensorFlow backend.\n"
     ]
    }
   ],
   "source": [
    "import mtcnn\n",
    "import cv2"
   ]
  },
  {
   "cell_type": "code",
   "execution_count": 6,
   "metadata": {},
   "outputs": [],
   "source": [
    "detector = mtcnn.MTCNN()"
   ]
  },
  {
   "cell_type": "code",
   "execution_count": 23,
   "metadata": {},
   "outputs": [],
   "source": [
    "def draw_image_with_boxes(filename,results):\n",
    "    frame = cv2.imread(filename)\n",
    "    for person in results:\n",
    "        bounding_box = person['box']\n",
    "        keypoints = person['keypoints']\n",
    "        cv2.rectangle(frame,\n",
    "                     (bounding_box[0],bounding_box[1]),\n",
    "                     (bounding_box[0]+bounding_box[2],bounding_box[1]+bounding_box[3]),\n",
    "                     (0,155,255),\n",
    "                     2)\n",
    "        cv2.circle(frame,(keypoints['left_eye']),2,(0,155,255),2)\n",
    "        cv2.circle(frame,(keypoints['right_eye']),2,(0,155,255),2)\n",
    "        cv2.circle(frame,(keypoints['nose']),2,(0,155,255),2)\n",
    "        cv2.circle(frame,(keypoints['mouth_left']),2,(0,155,255),2)\n",
    "        cv2.circle(frame,(keypoints['mouth_right']),2,(0,155,255),2)\n",
    "    cv2.imshow('frame with boxes',frame)\n",
    "    cv2.waitKey(0)\n",
    "    cv2.destroyAllWindows()"
   ]
  },
  {
   "cell_type": "code",
   "execution_count": 28,
   "metadata": {},
   "outputs": [],
   "source": [
    "filename = 'test4.jpg'\n",
    "img = cv2.imread(filename)\n",
    "results = detector.detect_faces(img)"
   ]
  },
  {
   "cell_type": "code",
   "execution_count": 29,
   "metadata": {},
   "outputs": [],
   "source": [
    "draw_image_with_boxes(filename,results)"
   ]
  }
 ],
 "metadata": {
  "kernelspec": {
   "display_name": "Python 3.7.6 64-bit ('AI': conda)",
   "language": "python",
   "name": "python37664bitaiconda5dba0435e6f348e1996d9fa0058cf91d"
  },
  "language_info": {
   "codemirror_mode": {
    "name": "ipython",
    "version": 3
   },
   "file_extension": ".py",
   "mimetype": "text/x-python",
   "name": "python",
   "nbconvert_exporter": "python",
   "pygments_lexer": "ipython3",
   "version": "3.7.7"
  }
 },
 "nbformat": 4,
 "nbformat_minor": 4
}
